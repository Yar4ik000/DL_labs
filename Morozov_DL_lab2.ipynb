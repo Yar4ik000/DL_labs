{
  "metadata": {
    "kernelspec": {
      "language": "python",
      "display_name": "Python 3",
      "name": "python3"
    },
    "language_info": {
      "pygments_lexer": "ipython3",
      "nbconvert_exporter": "python",
      "version": "3.6.4",
      "file_extension": ".py",
      "codemirror_mode": {
        "name": "ipython",
        "version": 3
      },
      "name": "python",
      "mimetype": "text/x-python"
    },
    "colab": {
      "name": "Morozov_DL_lab2.ipynb",
      "provenance": [],
      "include_colab_link": true
    },
    "accelerator": "GPU"
  },
  "nbformat_minor": 0,
  "nbformat": 4,
  "cells": [
    {
      "cell_type": "markdown",
      "metadata": {
        "id": "view-in-github",
        "colab_type": "text"
      },
      "source": [
        "<a href=\"https://colab.research.google.com/github/Yar4ik000/DL_labs/blob/main/Morozov_DL_lab2.ipynb\" target=\"_parent\"><img src=\"https://colab.research.google.com/assets/colab-badge.svg\" alt=\"Open In Colab\"/></a>"
      ]
    },
    {
      "cell_type": "markdown",
      "source": [
        "# Глубинное обучение. Лабораторная работа №2. Морозов Ярослав Олегович, 317"
      ],
      "metadata": {
        "id": "F_8wXGfO41_Z"
      }
    },
    {
      "cell_type": "markdown",
      "source": [
        "## Небольшая теоретическая и вводная части"
      ],
      "metadata": {
        "id": "kKo4lhPK5tTs"
      }
    },
    {
      "cell_type": "markdown",
      "source": [
        "С давних пор люди пытались решать задачи связанные с обработкой естественного языка с помощью различных классических моделей машинного обучения. Однако, как и ожидалось, результат оставлял желать лучшего. Главная проблема заключалась в том, что компьютер не умеет воспринимать слова как это делает человек, компьютер работаеть только с цифрами. Поэтому главное задачей в области работы с текстами стала проблема машинного представления слов. Классические методы по типу Bag of Words имели множество недостатков, поэтому человечеству хотелось найти что-то лучше. Появление нейросетей изменило ситуацию. Было желание создать такое представление слов, чтобы моделировалась ситуация \"угадывания слова\" по контексту, либо же, наоборот, угадывания контекста по слову. Для человека это почти очевидно - в предложении \"На моем диване сидела ... и облизывалась\" многие скажут, что таинственное многоточие - это какое-то из домашних животных, скорее всего кошка или собака. \n",
        "\n",
        "Одной из придуманных моделей стал так называемый word2vec - представление слов в каком-то n-мерном пространстве. Эта модель является неконтекстным представлением, однако неконтекстность здесь имеется в виду на этапе применения, обучение же, конечно, ведется с контекстом. \n",
        "\n"
      ],
      "metadata": {
        "id": "Gmr_THa951pY"
      }
    },
    {
      "cell_type": "markdown",
      "source": [
        "<img src=\"https://lilianweng.github.io/posts/2017-10-15-word-embedding/word2vec-cbow.png\">"
      ],
      "metadata": {
        "id": "KefqLTwF96fI"
      }
    },
    {
      "cell_type": "markdown",
      "source": [
        "Word2vec имеет два варианта реализации. Первая (на картинке выше), имеет под собой логику предсказывания слова по контексту. Такой вид называется CBOW. Изначально слова в словаре кодируется с помощью bag of words, но потом контекстные суммируются (или берется среднее), умножаются на матрицу W, после чего на W', затем берется софтмакс и так получается выходное предсказанное слово. Две матрицы подряд образуют узкое горлышко, размерности эмбедингов векторов. В конце, под эмбедингом понимают соответствующие индексам столбцы/строки матриц, либо же их комбинацию"
      ],
      "metadata": {
        "id": "Ir0nrdi9-HBD"
      }
    },
    {
      "cell_type": "markdown",
      "source": [
        "<img src=\"https://lilianweng.github.io/posts/2017-10-15-word-embedding/word2vec-skip-gram.png\">"
      ],
      "metadata": {
        "id": "8d2klXrz_KD-"
      }
    },
    {
      "cell_type": "markdown",
      "source": [
        "Во втором случае, называющемся skip-gram, подразумевается предсказание контекста по слову. Идея в общем то та же, но теперь на выход идет одно слово, а выходом будут пары (слово, контекстное слово)."
      ],
      "metadata": {
        "id": "bhb1Gfb3_Txq"
      }
    },
    {
      "cell_type": "markdown",
      "source": [
        "В моей работе будет реализована модель CBOW."
      ],
      "metadata": {
        "id": "Yy0x_KRf_j4_"
      }
    },
    {
      "cell_type": "markdown",
      "source": [
        "## Подготовка модели и корпуса обучения"
      ],
      "metadata": {
        "id": "yRe9Luem_wDe"
      }
    },
    {
      "cell_type": "code",
      "source": [
        "import numpy as np\n",
        "import torch\n",
        "from torch import nn\n",
        "import pandas as pd\n",
        "import re\n",
        "import matplotlib\n",
        "import matplotlib.pyplot as plt\n",
        "%matplotlib inline\n",
        "from sklearn.manifold import TSNE\n",
        "from collections import Counter\n",
        "from tqdm.notebook import tqdm\n",
        "from sklearn.neighbors import NearestNeighbors\n",
        "import nltk\n",
        "from nltk.tokenize import word_tokenize,sent_tokenize\n",
        "from nltk.corpus import stopwords, wordnet\n",
        "from nltk.stem import WordNetLemmatizer\n",
        "nltk.download('averaged_perceptron_tagger')\n",
        "nltk.download('wordnet')\n",
        "nltk.download('punkt')\n",
        "nltk.download('stopwords')\n",
        "\n",
        "import warnings\n",
        "warnings.filterwarnings(\"ignore\")"
      ],
      "metadata": {
        "id": "52769c0b",
        "execution": {
          "iopub.status.busy": "2022-05-31T19:48:17.748506Z",
          "iopub.execute_input": "2022-05-31T19:48:17.748915Z",
          "iopub.status.idle": "2022-05-31T19:48:19.570545Z",
          "shell.execute_reply.started": "2022-05-31T19:48:17.748841Z",
          "shell.execute_reply": "2022-05-31T19:48:19.569752Z"
        },
        "trusted": true
      },
      "execution_count": 1,
      "outputs": []
    },
    {
      "cell_type": "code",
      "source": [
        "# Сама модель\n",
        "class CBOW(nn.Module):\n",
        "    def __init__(self, hidden_dim, vocab_size):\n",
        "        super().__init__()\n",
        "        self.fc1 = nn.Linear(vocab_size, hidden_dim)\n",
        "        self.fc2 = nn.Linear(hidden_dim, vocab_size)\n",
        "        \n",
        "        self.hidden_dim = hidden_dim\n",
        "        self.vocab_size = vocab_size\n",
        "        \n",
        "    def forward(self, inputs):\n",
        "        inputs = self.fc1(inputs)\n",
        "        inputs = self.fc2(inputs)\n",
        "        \n",
        "        return inputs"
      ],
      "metadata": {
        "id": "243de93b",
        "execution": {
          "iopub.status.busy": "2022-05-31T19:48:21.671415Z",
          "iopub.execute_input": "2022-05-31T19:48:21.672356Z",
          "iopub.status.idle": "2022-05-31T19:48:21.679048Z",
          "shell.execute_reply.started": "2022-05-31T19:48:21.672319Z",
          "shell.execute_reply": "2022-05-31T19:48:21.677668Z"
        },
        "trusted": true
      },
      "execution_count": 2,
      "outputs": []
    },
    {
      "cell_type": "code",
      "source": [
        "# Функция создания контекста\n",
        "def convert_to_cbow(text, window_size=2):\n",
        "    data = []\n",
        "    for i in range(len(text)):\n",
        "        start = min(window_size, i)\n",
        "        stop = min(window_size + 1, len(text) - i)\n",
        "        \n",
        "        context = [text[i - j] for j in range(start, 0, -1)]\n",
        "        context += [text[i + j] for j in range(1, stop)]\n",
        "        target = text[i]\n",
        "        \n",
        "        data.append((context, target))\n",
        "        \n",
        "    return data"
      ],
      "metadata": {
        "id": "e88dd5b3",
        "execution": {
          "iopub.status.busy": "2022-05-31T19:48:22.783598Z",
          "iopub.execute_input": "2022-05-31T19:48:22.784259Z",
          "iopub.status.idle": "2022-05-31T19:48:22.795753Z",
          "shell.execute_reply.started": "2022-05-31T19:48:22.784211Z",
          "shell.execute_reply": "2022-05-31T19:48:22.794971Z"
        },
        "trusted": true
      },
      "execution_count": 3,
      "outputs": []
    },
    {
      "cell_type": "code",
      "source": [
        "#Пример работы функции\n",
        "convert_to_cbow(['A', 'very', 'cute', 'kitten', 'is', 'lying', 'on', 'the', 'grass'])"
      ],
      "metadata": {
        "id": "DMXCfmwCABvw"
      },
      "execution_count": null,
      "outputs": []
    },
    {
      "cell_type": "code",
      "source": [
        "#Создание таблиц слово-индекс и индекс-слово\n",
        "def ohe_vectors(text):\n",
        "    word_to_ind = {word: i for i, word in enumerate(text)}\n",
        "    ind_to_word = {i: word for i, word in enumerate(text)}\n",
        "    \n",
        "    return word_to_ind, ind_to_word"
      ],
      "metadata": {
        "id": "49af6777",
        "execution": {
          "iopub.status.busy": "2022-05-31T19:48:23.364956Z",
          "iopub.execute_input": "2022-05-31T19:48:23.365311Z",
          "iopub.status.idle": "2022-05-31T19:48:23.370478Z",
          "shell.execute_reply.started": "2022-05-31T19:48:23.36528Z",
          "shell.execute_reply": "2022-05-31T19:48:23.369549Z"
        },
        "trusted": true
      },
      "execution_count": 4,
      "outputs": []
    },
    {
      "cell_type": "markdown",
      "source": [
        "Для обучения использовался корпус ag_news: https://huggingface.co/datasets/ag_news"
      ],
      "metadata": {
        "id": "dcbZC7CiATUf"
      }
    },
    {
      "cell_type": "code",
      "source": [
        "!wget https://raw.githubusercontent.com/mhjabreel/CharCnn_Keras/master/data/ag_news_csv/test.csv"
      ],
      "metadata": {
        "id": "9d8959c0",
        "execution": {
          "iopub.status.busy": "2022-05-31T19:48:25.152118Z",
          "iopub.execute_input": "2022-05-31T19:48:25.152729Z",
          "iopub.status.idle": "2022-05-31T19:48:26.168952Z",
          "shell.execute_reply.started": "2022-05-31T19:48:25.152692Z",
          "shell.execute_reply": "2022-05-31T19:48:26.168022Z"
        },
        "trusted": true
      },
      "execution_count": null,
      "outputs": []
    },
    {
      "cell_type": "code",
      "source": [
        "#Чтение текстов, убирание всех небуквенных символов, приведение к нижнему регистру\n",
        "text = pd.read_csv('test.csv', header=None)\n",
        "texts = [text for text in text[2]]\n",
        "\n",
        "text = ''\n",
        "for t in texts:\n",
        "    text += t\n",
        "\n",
        "text = re.sub('[^A-Za-z ]', '', text) \n",
        "text = text.lower()"
      ],
      "metadata": {
        "id": "0639c96d",
        "execution": {
          "iopub.status.busy": "2022-05-31T19:48:27.284518Z",
          "iopub.execute_input": "2022-05-31T19:48:27.285358Z",
          "iopub.status.idle": "2022-05-31T19:48:27.323023Z",
          "shell.execute_reply.started": "2022-05-31T19:48:27.285315Z",
          "shell.execute_reply": "2022-05-31T19:48:27.322241Z"
        },
        "trusted": true
      },
      "execution_count": 6,
      "outputs": []
    },
    {
      "cell_type": "code",
      "source": [
        "#Уборка стоп слов и токенизация\n",
        "words = nltk.word_tokenize(text)\n",
        "unique_tokens = set(words)\n",
        "stop_words = set(stopwords.words('english'))\n",
        "final_tokens = [word for word in words if word not in stop_words]"
      ],
      "metadata": {
        "id": "103289ba",
        "execution": {
          "iopub.status.busy": "2022-05-31T19:48:32.512813Z",
          "iopub.execute_input": "2022-05-31T19:48:32.513951Z",
          "iopub.status.idle": "2022-05-31T19:48:34.432526Z",
          "shell.execute_reply.started": "2022-05-31T19:48:32.513895Z",
          "shell.execute_reply": "2022-05-31T19:48:34.431657Z"
        },
        "trusted": true
      },
      "execution_count": 13,
      "outputs": []
    },
    {
      "cell_type": "code",
      "source": [
        "#Лемматизация\n",
        "#code from this site: https://webdevblog.ru/podhody-lemmatizacii-s-primerami-v-python/\n",
        "def get_wordnet_pos(word):\n",
        "    \"\"\"Map POS tag to first character lemmatize() accepts\"\"\"\n",
        "    tag = nltk.pos_tag([word])[0][1][0].upper()\n",
        "    tag_dict = {\"J\": wordnet.ADJ,\n",
        "                \"N\": wordnet.NOUN,\n",
        "                \"V\": wordnet.VERB,\n",
        "                \"R\": wordnet.ADV}\n",
        "    return tag_dict.get(tag, wordnet.NOUN)\n",
        "\n",
        "\n",
        "lemmatizer = WordNetLemmatizer()\n",
        "text = [lemmatizer.lemmatize(w, get_wordnet_pos(w)) for w in final_tokens]\n",
        "text = [word for word in words if word not in stop_words]"
      ],
      "metadata": {
        "id": "cb2715d0",
        "execution": {
          "iopub.status.busy": "2022-05-31T19:48:34.433831Z",
          "iopub.execute_input": "2022-05-31T19:48:34.434222Z",
          "iopub.status.idle": "2022-05-31T19:48:36.415216Z",
          "shell.execute_reply.started": "2022-05-31T19:48:34.434188Z",
          "shell.execute_reply": "2022-05-31T19:48:36.414332Z"
        },
        "trusted": true
      },
      "execution_count": null,
      "outputs": []
    },
    {
      "cell_type": "code",
      "source": [
        "def preparation(text, freq, window_size):\n",
        "    #Ограничение размера словаря\n",
        "    counter = Counter(text)\n",
        "    c = dict()\n",
        "\n",
        "    for word, count in counter.items():\n",
        "        if count > freq:\n",
        "            c[word] = count\n",
        "\n",
        "    #Создание мешка слов и контекстов\n",
        "    text = [word for word in text if word in c]\n",
        "    unique_tokens = set(text)\n",
        "    word_to_ind, ind_to_word = ohe_vectors(unique_tokens)\n",
        "    train_contexts = convert_to_cbow(text, window_size=window_size)\n",
        "    \n",
        "    return word_to_ind, ind_to_word, train_contexts, len(unique_tokens)"
      ],
      "metadata": {
        "id": "thzARb2_B7ZY"
      },
      "execution_count": null,
      "outputs": []
    },
    {
      "cell_type": "code",
      "source": [
        "#Функция для создание векторов контекста\n",
        "def make_context_vector(context, word_to_ind):\n",
        "    vec = torch.zeros(len(word_to_ind))\n",
        "    positions = [word_to_ind[word] for word in context]\n",
        "    vec[positions] = 1\n",
        "    return vec"
      ],
      "metadata": {
        "id": "766e7b7c",
        "execution": {
          "iopub.status.busy": "2022-05-31T19:48:59.272285Z",
          "iopub.execute_input": "2022-05-31T19:48:59.272623Z",
          "iopub.status.idle": "2022-05-31T19:48:59.277829Z",
          "shell.execute_reply.started": "2022-05-31T19:48:59.272588Z",
          "shell.execute_reply": "2022-05-31T19:48:59.277095Z"
        },
        "trusted": true
      },
      "execution_count": 24,
      "outputs": []
    },
    {
      "cell_type": "code",
      "source": [
        "def train(train_context, num_epochs):\n",
        "    for epoch in range(num_epochs):\n",
        "        loss = 0\n",
        "        \n",
        "        print(f'Epoch: {epoch + 1}/{num_epochs}')\n",
        "        for i, (context, target) in tqdm(enumerate(train_context), total=len(train_context)):\n",
        "            context_vector = make_context_vector(context, word_to_ind).reshape(1, -1).to(device)\n",
        "            \n",
        "            output = model(context_vector).view(1, -1)\n",
        "            target = torch.tensor([word_to_ind[target]]).to(device)\n",
        "            loss = criterion(output, target)\n",
        "\n",
        "            loss.backward()\n",
        "            optimizer.step()\n",
        "            optimizer.zero_grad() \n",
        "            loss = 0"
      ],
      "metadata": {
        "id": "3b4479f8",
        "execution": {
          "iopub.status.busy": "2022-05-31T22:54:10.291458Z",
          "iopub.execute_input": "2022-05-31T22:54:10.291837Z",
          "iopub.status.idle": "2022-06-01T00:03:49.885067Z",
          "shell.execute_reply.started": "2022-05-31T22:54:10.291803Z",
          "shell.execute_reply": "2022-06-01T00:03:49.884303Z"
        },
        "trusted": true
      },
      "execution_count": null,
      "outputs": []
    },
    {
      "cell_type": "markdown",
      "source": [
        "## 1ая модель"
      ],
      "metadata": {
        "id": "Ulo57LU3CvfO"
      }
    },
    {
      "cell_type": "markdown",
      "source": [
        "Размерность эмбединга - 1000, размер окна - 2, минимум повторения слов - 5"
      ],
      "metadata": {
        "id": "3aMyOPRVCyM9"
      }
    },
    {
      "cell_type": "code",
      "source": [
        "word_to_ind, ind_to_word, train_context, length = preparation(text, 5, 2)\n",
        "\n",
        "model = CBOW(1000, length)\n",
        "\n",
        "optimizer = torch.optim.Adam(model.parameters(), lr=1e-3)\n",
        "\n",
        "criterion = nn.CrossEntropyLoss()\n",
        "device = 'cuda:0' if torch.cuda.is_available() else 'cpu'\n",
        "\n",
        "model = model.to(device)\n",
        "\n",
        "train(train_context)"
      ],
      "metadata": {
        "id": "4eaac821",
        "execution": {
          "iopub.status.busy": "2022-05-31T22:54:06.824325Z",
          "iopub.execute_input": "2022-05-31T22:54:06.824711Z",
          "iopub.status.idle": "2022-05-31T22:54:06.88857Z",
          "shell.execute_reply.started": "2022-05-31T22:54:06.824677Z",
          "shell.execute_reply": "2022-05-31T22:54:06.887833Z"
        },
        "trusted": true
      },
      "execution_count": null,
      "outputs": []
    },
    {
      "cell_type": "code",
      "source": [
        "fc2_cpu = model.fc2.state_dict()['weight'].to('cpu')\n",
        "nbrs = NearestNeighbors(n_neighbors=2, metric='cosine').fit(fc2_cpu)\n",
        "\n",
        "neighbors = nbrs.kneighbors(fc2_cpu[word_to_ind['women']].reshape(1, -1), n_neighbors=5)[1][0]\n",
        "print('5 most similiar to word women: ', end=' ')\n",
        "for neigh in neighbors:\n",
        "    print(ind_to_word[neigh], end=', ')\n",
        "print()\n",
        "\n",
        "neighbors = nbrs.kneighbors(fc2_cpu[word_to_ind['woman']].reshape(1, -1), n_neighbors=5)[1][0]\n",
        "print('5 most similiar to word woman: ', end=' ')\n",
        "for neigh in neighbors:\n",
        "    print(ind_to_word[neigh], end=', ')\n",
        "print()\n",
        "\n",
        "neighbors = nbrs.kneighbors(fc2_cpu[word_to_ind['boy']].reshape(1, -1), n_neighbors=5)[1][0]\n",
        "print('5 most similiar to word boy: ', end=' ')\n",
        "for neigh in neighbors:\n",
        "    print(ind_to_word[neigh], end=', ')"
      ],
      "metadata": {
        "id": "r9CBTQ-4tJt5",
        "outputId": "e90c3a6e-94a3-4f55-f517-bde5c9233ca4",
        "execution": {
          "iopub.status.busy": "2022-06-01T00:09:34.980307Z",
          "iopub.execute_input": "2022-06-01T00:09:34.980679Z",
          "iopub.status.idle": "2022-06-01T00:09:35.007391Z",
          "shell.execute_reply.started": "2022-06-01T00:09:34.980621Z",
          "shell.execute_reply": "2022-06-01T00:09:35.006553Z"
        },
        "trusted": true,
        "colab": {
          "base_uri": "https://localhost:8080/"
        }
      },
      "execution_count": 43,
      "outputs": [
        {
          "output_type": "stream",
          "name": "stdout",
          "text": [
            "5 most similiar to word women:  women, mulling, endorsed, revision, positions, \n",
            "5 most similiar to word woman:  woman, endorsed, mulling, agriculture, cedric, \n",
            "5 most similiar to word boy:  boy, recalling, hometown, matches, vaccines, "
          ]
        }
      ]
    },
    {
      "cell_type": "code",
      "source": [
        "tsne = TSNE()\n",
        "\n",
        "emb_2dim = tsne.fit_transform(fc2_cpu)\n",
        "queen, king, man, woman = word_to_ind['queen'], word_to_ind['king'], word_to_ind['man'], word_to_ind['woman']\n",
        "girl, boy = word_to_ind['girl'], word_to_ind['boy']"
      ],
      "metadata": {
        "execution": {
          "iopub.status.busy": "2022-06-01T00:10:04.674705Z",
          "iopub.execute_input": "2022-06-01T00:10:04.675058Z",
          "iopub.status.idle": "2022-06-01T00:11:39.710929Z",
          "shell.execute_reply.started": "2022-06-01T00:10:04.675028Z",
          "shell.execute_reply": "2022-06-01T00:11:39.710025Z"
        },
        "trusted": true,
        "id": "OaZVACWBgGjB"
      },
      "execution_count": null,
      "outputs": []
    },
    {
      "cell_type": "code",
      "source": [
        "plt.figure(figsize=(8, 6))\n",
        "plt.grid(True)\n",
        "plt.title('Двумерное представление некоторых слов')\n",
        "\n",
        "plt.scatter(*emb_2dim[queen], c='b')\n",
        "plt.scatter(*emb_2dim[king], c='b')\n",
        "plt.scatter(*emb_2dim[man], c='r')\n",
        "plt.scatter(*emb_2dim[woman], c='r')\n",
        "\n",
        "plt.text(*emb_2dim[queen], 'queen')\n",
        "plt.text(*emb_2dim[king], 'king')\n",
        "plt.text(*emb_2dim[man], 'man')\n",
        "plt.text(*emb_2dim[woman], 'woman')\n",
        "plt.text(*emb_2dim[girl], 'girl')\n",
        "plt.text(*emb_2dim[boy], 'boy')\n",
        "\n",
        "plt.plot([emb_2dim[queen][0], emb_2dim[king][0]], [emb_2dim[queen][1], emb_2dim[king][1]])\n",
        "plt.plot([emb_2dim[man][0], emb_2dim[woman][0]], [emb_2dim[man][1], emb_2dim[woman][1]])\n",
        "plt.plot([emb_2dim[girl][0], emb_2dim[boy][0]], [emb_2dim[girl][1], emb_2dim[boy][1]])\n",
        "plt.scatter(*emb_2dim[girl], c='g')\n",
        "plt.scatter(*emb_2dim[boy], c='g')\n",
        "plt.show()"
      ],
      "metadata": {
        "execution": {
          "iopub.status.busy": "2022-06-01T00:32:01.264379Z",
          "iopub.execute_input": "2022-06-01T00:32:01.264747Z",
          "iopub.status.idle": "2022-06-01T00:32:01.51721Z",
          "shell.execute_reply.started": "2022-06-01T00:32:01.264716Z",
          "shell.execute_reply": "2022-06-01T00:32:01.516474Z"
        },
        "trusted": true,
        "colab": {
          "base_uri": "https://localhost:8080/",
          "height": 390
        },
        "id": "5r8RmPJEgGjB",
        "outputId": "4156ba24-bb9d-4340-ac61-e75560bd409e"
      },
      "execution_count": 47,
      "outputs": [
        {
          "output_type": "display_data",
          "data": {
            "text/plain": [
              "<Figure size 576x432 with 1 Axes>"
            ],
            "image/png": "[encoded data removed]"
          },
          "metadata": {
            "needs_background": "light"
          }
        }
      ]
    },
    {
      "cell_type": "markdown",
      "source": [
        "Как видно, похожие слова оставляют желать лучшего, но зато вектора мальчик-девочка и мужчина-женщина практиечски параллельны, но встает вопрос почему они \"перевернуты\"."
      ],
      "metadata": {
        "id": "WCl0vrF3DJry"
      }
    },
    {
      "cell_type": "markdown",
      "source": [
        "## 2ая модель"
      ],
      "metadata": {
        "id": "YMTk6XKeDZ_u"
      }
    },
    {
      "cell_type": "markdown",
      "source": [
        "Размерность эмбединга - 500, размер окна - 3, минимум повторения слов - 2"
      ],
      "metadata": {
        "id": "NYh1ADIbDtRC"
      }
    },
    {
      "cell_type": "code",
      "source": [
        "word_to_ind, ind_to_word, train_context, length = preparation(text, 2, 3)\n",
        "\n",
        "model = CBOW(500, length)\n",
        "\n",
        "optimizer = torch.optim.Adam(model.parameters(), lr=1e-3)\n",
        "\n",
        "criterion = nn.CrossEntropyLoss()\n",
        "device = 'cuda:0' if torch.cuda.is_available() else 'cpu'\n",
        "\n",
        "model = model.to(device)\n",
        "\n",
        "train(train_context)"
      ],
      "metadata": {
        "id": "py8NwtY_xsp6"
      },
      "execution_count": null,
      "outputs": []
    },
    {
      "cell_type": "code",
      "source": [
        "fc2_cpu = model.fc2.state_dict()['weight'].to('cpu')\n",
        "nbrs = NearestNeighbors(n_neighbors=2, metric='cosine').fit(fc2_cpu)\n",
        "\n",
        "neighbors = nbrs.kneighbors(fc2_cpu[word_to_ind['women']].reshape(1, -1), n_neighbors=5)[1][0]\n",
        "print('5 most similiar to word women: ', end=' ')\n",
        "for neigh in neighbors:\n",
        "    print(ind_to_word[neigh], end=', ')\n",
        "print()\n",
        "\n",
        "neighbors = nbrs.kneighbors(fc2_cpu[word_to_ind['woman']].reshape(1, -1), n_neighbors=5)[1][0]\n",
        "print('5 most similiar to word woman: ', end=' ')\n",
        "for neigh in neighbors:\n",
        "    print(ind_to_word[neigh], end=', ')\n",
        "print()\n",
        "\n",
        "neighbors = nbrs.kneighbors(fc2_cpu[word_to_ind['boy']].reshape(1, -1), n_neighbors=5)[1][0]\n",
        "print('5 most similiar to word boy: ', end=' ')\n",
        "for neigh in neighbors:\n",
        "    print(ind_to_word[neigh], end=', ')"
      ],
      "metadata": {
        "colab": {
          "base_uri": "https://localhost:8080/"
        },
        "id": "yuPVGuK7xssK",
        "outputId": "7e64bc97-bc59-49e8-ebcf-97035118468e"
      },
      "execution_count": 92,
      "outputs": [
        {
          "output_type": "stream",
          "name": "stdout",
          "text": [
            "5 most similiar to word women:  women, closer, agencys, nevada, widely, \n",
            "5 most similiar to word woman:  woman, raging, helicopter, upgrade, kan, \n",
            "5 most similiar to word boy:  boy, bomb, moving, seemingly, western, "
          ]
        }
      ]
    },
    {
      "cell_type": "code",
      "source": [
        "tsne = TSNE()\n",
        "\n",
        "emb_2dim = tsne.fit_transform(fc2_cpu)\n",
        "queen, king, man, woman = word_to_ind['queen'], word_to_ind['king'], word_to_ind['man'], word_to_ind['woman']\n",
        "girl, boy = word_to_ind['girl'], word_to_ind['boy']\n",
        "\n",
        "\n",
        "plt.figure(figsize=(8, 6))\n",
        "plt.grid(True)\n",
        "plt.title('Двумерное представление некоторых слов')\n",
        "\n",
        "plt.scatter(*emb_2dim[queen], c='b')\n",
        "plt.scatter(*emb_2dim[king], c='b')\n",
        "plt.scatter(*emb_2dim[man], c='r')\n",
        "plt.scatter(*emb_2dim[woman], c='r')\n",
        "\n",
        "plt.text(*emb_2dim[queen], 'queen')\n",
        "plt.text(*emb_2dim[king], 'king')\n",
        "plt.text(*emb_2dim[man], 'man')\n",
        "plt.text(*emb_2dim[woman], 'woman')\n",
        "plt.text(*emb_2dim[girl], 'girl')\n",
        "plt.text(*emb_2dim[boy], 'boy')\n",
        "\n",
        "plt.plot([emb_2dim[queen][0], emb_2dim[king][0]], [emb_2dim[queen][1], emb_2dim[king][1]])\n",
        "plt.plot([emb_2dim[man][0], emb_2dim[woman][0]], [emb_2dim[man][1], emb_2dim[woman][1]])\n",
        "plt.plot([emb_2dim[girl][0], emb_2dim[boy][0]], [emb_2dim[girl][1], emb_2dim[boy][1]])\n",
        "plt.scatter(*emb_2dim[girl], c='g')\n",
        "plt.scatter(*emb_2dim[boy], c='g')\n",
        "plt.show()"
      ],
      "metadata": {
        "colab": {
          "base_uri": "https://localhost:8080/",
          "height": 390
        },
        "id": "9heR6HIx0Q5G",
        "outputId": "fdc7c8fb-c10e-484e-c62e-bcee8eb39279"
      },
      "execution_count": 96,
      "outputs": [
        {
          "output_type": "display_data",
          "data": {
            "text/plain": [
              "<Figure size 576x432 with 1 Axes>"
            ],
            "image/png": "[encoded data removed]"
          },
          "metadata": {
            "needs_background": "light"
          }
        }
      ]
    },
    {
      "cell_type": "markdown",
      "source": [
        "Ближайшие слова все также неинтерпретируемы, но теперь вектор мальчик-девочка стал ближе к король-королева, а вот мужчина-женщина вообще почему то стал ортогональным к ним"
      ],
      "metadata": {
        "id": "HNrMhXkLD6ed"
      }
    },
    {
      "cell_type": "markdown",
      "source": [
        "## 3ья модель"
      ],
      "metadata": {
        "id": "aQ4W_LvyEIWV"
      }
    },
    {
      "cell_type": "markdown",
      "source": [
        "Размерность эмбединга - 2000, размер окна - 5, минимум повторения слов - 2"
      ],
      "metadata": {
        "id": "3VhxQB-YEMAx"
      }
    },
    {
      "cell_type": "code",
      "source": [
        "word_to_ind, ind_to_word, train_context, length = preparation(text, 2, 5)\n",
        "\n",
        "model = CBOW(2000, length)\n",
        "\n",
        "optimizer = torch.optim.Adam(model.parameters(), lr=1e-3)\n",
        "\n",
        "criterion = nn.CrossEntropyLoss()\n",
        "device = 'cuda:0' if torch.cuda.is_available() else 'cpu'\n",
        "\n",
        "model = model.to(device)\n",
        "\n",
        "train(train_context)"
      ],
      "metadata": {
        "id": "GRNDgGPR2A_F"
      },
      "execution_count": null,
      "outputs": []
    },
    {
      "cell_type": "code",
      "source": [
        "fc2_cpu = model.fc2.state_dict()['weight'].to('cpu')\n",
        "nbrs = NearestNeighbors(n_neighbors=2, metric='cosine').fit(fc2_cpu)\n",
        "\n",
        "neighbors = nbrs.kneighbors(fc2_cpu[word_to_ind['women']].reshape(1, -1), n_neighbors=5)[1][0]\n",
        "print('5 most similiar to word women: ', end=' ')\n",
        "for neigh in neighbors:\n",
        "    print(ind_to_word[neigh], end=', ')\n",
        "print()\n",
        "\n",
        "neighbors = nbrs.kneighbors(fc2_cpu[word_to_ind['woman']].reshape(1, -1), n_neighbors=5)[1][0]\n",
        "print('5 most similiar to word woman: ', end=' ')\n",
        "for neigh in neighbors:\n",
        "    print(ind_to_word[neigh], end=', ')\n",
        "print()\n",
        "\n",
        "neighbors = nbrs.kneighbors(fc2_cpu[word_to_ind['boy']].reshape(1, -1), n_neighbors=5)[1][0]\n",
        "print('5 most similiar to word boy: ', end=' ')\n",
        "for neigh in neighbors:\n",
        "    print(ind_to_word[neigh], end=', ')"
      ],
      "metadata": {
        "colab": {
          "base_uri": "https://localhost:8080/"
        },
        "id": "DevhCIAH2BBS",
        "outputId": "dc95a3a1-d6cb-4bc0-92be-1fecbb3dc8d1"
      },
      "execution_count": 99,
      "outputs": [
        {
          "output_type": "stream",
          "name": "stdout",
          "text": [
            "5 most similiar to word women:  women, jamaica, cuttingedge, nathan, death, \n",
            "5 most similiar to word woman:  woman, lost, nintendo, gathered, massachusetts, \n",
            "5 most similiar to word boy:  boy, researcher, true, mix, chapter, "
          ]
        }
      ]
    },
    {
      "cell_type": "code",
      "source": [
        "tsne = TSNE()\n",
        "\n",
        "emb_2dim = tsne.fit_transform(fc2_cpu)\n",
        "queen, king, man, woman = word_to_ind['queen'], word_to_ind['king'], word_to_ind['man'], word_to_ind['woman']\n",
        "girl, boy = word_to_ind['girl'], word_to_ind['boy']\n",
        "\n",
        "\n",
        "plt.figure(figsize=(8, 6))\n",
        "plt.grid(True)\n",
        "plt.title('Двумерное представление некоторых слов')\n",
        "\n",
        "plt.scatter(*emb_2dim[queen], c='b')\n",
        "plt.scatter(*emb_2dim[king], c='b')\n",
        "plt.scatter(*emb_2dim[man], c='r')\n",
        "plt.scatter(*emb_2dim[woman], c='r')\n",
        "\n",
        "plt.text(*emb_2dim[queen], 'queen')\n",
        "plt.text(*emb_2dim[king], 'king')\n",
        "plt.text(*emb_2dim[man], 'man')\n",
        "plt.text(*emb_2dim[woman], 'woman')\n",
        "plt.text(*emb_2dim[girl], 'girl')\n",
        "plt.text(*emb_2dim[boy], 'boy')\n",
        "\n",
        "plt.plot([emb_2dim[queen][0], emb_2dim[king][0]], [emb_2dim[queen][1], emb_2dim[king][1]])\n",
        "plt.plot([emb_2dim[man][0], emb_2dim[woman][0]], [emb_2dim[man][1], emb_2dim[woman][1]])\n",
        "plt.plot([emb_2dim[girl][0], emb_2dim[boy][0]], [emb_2dim[girl][1], emb_2dim[boy][1]])\n",
        "plt.scatter(*emb_2dim[girl], c='g')\n",
        "plt.scatter(*emb_2dim[boy], c='g')\n",
        "plt.show()"
      ],
      "metadata": {
        "colab": {
          "base_uri": "https://localhost:8080/",
          "height": 390
        },
        "id": "c4qwfyTo2KvG",
        "outputId": "dd023f00-713e-455e-f213-c592f470c69d"
      },
      "execution_count": 100,
      "outputs": [
        {
          "output_type": "display_data",
          "data": {
            "text/plain": [
              "<Figure size 576x432 with 1 Axes>"
            ],
            "image/png": "[encoded data removed]"
          },
          "metadata": {
            "needs_background": "light"
          }
        }
      ]
    },
    {
      "cell_type": "markdown",
      "source": [
        "Кажется, что слова даже стали чуть получше, и вектора теперь даже почти сонаправлены"
      ],
      "metadata": {
        "id": "obNwKe6KEZ1J"
      }
    },
    {
      "cell_type": "markdown",
      "source": [
        "#Заключение"
      ],
      "metadata": {
        "id": "t6LJhUikO-_p"
      }
    },
    {
      "cell_type": "markdown",
      "source": [
        "Первым делом хочется сказать, что, к сожалению, очень мало получилось уделить времени работе, поэтому себе бы я вообще 2 поставил. Следующие возможные действия, которые стоит сделать при должном количестве времени:\n",
        "\n",
        "*   Реализовать модель skip-gram\n",
        "*   Реализовать пакетное обучение\n",
        "*   Реализовать различные методы ускорения по типу Negative Sampling\n",
        "*   Провести покомпонентное сравнение векторов близких и далеких по смыслу векторов (heatmap)\n",
        "\n",
        "В качетсве вывода данной работы могу сказать, что есть ощущение, что на маленьких корпусах текста, с малым количеством времени и малыми мощностями можно даже не пытаться обучать модель word2vec. Ей требуется много времени и много примеров для обучения. Также временами катастрофически не хватает памяти видеокарты.\n",
        "\n",
        "Получившиеся у меня представления в принципе иногда даже коллинеарны в двумерном виде, однако, судя по ближайшим похожим, до реального рабочего вида им еще очень далеко\n"
      ],
      "metadata": {
        "id": "s9FZ4HboPBLP"
      }
    }
  ]
}